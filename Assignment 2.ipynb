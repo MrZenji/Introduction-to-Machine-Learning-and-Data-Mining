{
 "cells": [
  {
   "cell_type": "code",
   "execution_count": 1,
   "metadata": {
    "collapsed": false
   },
   "outputs": [
    {
     "name": "stdout",
     "output_type": "stream",
     "text": [
      "Done\n"
     ]
    }
   ],
   "source": [
    "########################\n",
    "# Imports\n",
    "########################\n",
    "from __future__ import division\n",
    "import math\n",
    "import random\n",
    "import csv\n",
    "import numpy as np\n",
    "import nltk\n",
    "import json\n",
    "from sklearn import tree\n",
    "from sklearn.tree import export_graphviz\n",
    "\n",
    "print \"Done\""
   ]
  },
  {
   "cell_type": "code",
   "execution_count": 2,
   "metadata": {
    "collapsed": false
   },
   "outputs": [
    {
     "name": "stdout",
     "output_type": "stream",
     "text": [
      "Done\n"
     ]
    }
   ],
   "source": [
    "############################\n",
    "# Retrieving data from file\n",
    "###########################\n",
    "Data = []\n",
    "with open('forestfires.csv') as f:\n",
    "    reader = csv.DictReader(f, delimiter=',')\n",
    "    for row in reader:\n",
    "        Data.append({\"X\": row[\"X\"],\"Y\": row[\"Y\"],\"month\": row[\"month\"],\n",
    "                     \"day\": row[\"day\"],\"FFMC\": row[\"FFMC\"] ,\"DMC\": row[\"DMC\"]\n",
    "                    ,\"DC\": row[\"DC\"] ,\"ISI\": row[\"ISI\"] ,\"temp\": row[\"temp\"]\n",
    "                    ,\"RH\": row[\"RH\"] ,\"wind\": row[\"wind\"] ,\"rain\": row[\"rain\"]\n",
    "                    ,\"area\": row[\"area\"]})\n",
    "print \"Done\""
   ]
  },
  {
   "cell_type": "code",
   "execution_count": 3,
   "metadata": {
    "collapsed": false
   },
   "outputs": [
    {
     "name": "stdout",
     "output_type": "stream",
     "text": [
      "Gone through 517 fires\n",
      "Number of Large Fires: 270\n",
      "Number of Small fires: 247\n"
     ]
    }
   ],
   "source": [
    "########################\n",
    "# Create train/test-set\n",
    "########################\n",
    "large_set = ([])\n",
    "small_set = ([])\n",
    "large_numb = 0\n",
    "small_numb = 0\n",
    "count = 0\n",
    "for fire in Data:\n",
    "    count +=1\n",
    "    if(float(fire[\"area\"])>0):\n",
    "        large_set.append([fire,'High'])\n",
    "        large_numb +=1\n",
    "    else:\n",
    "        small_set.append([fire,'Low'])\n",
    "        small_numb +=1\n",
    "temp = (large_set+small_set)\n",
    "print \"Gone through \"+ str(count) +\" fires\"\n",
    "print \"Number of Large Fires: \"+ str(large_numb)\n",
    "print \"Number of Small fires: \"+ str(small_numb)"
   ]
  },
  {
   "cell_type": "code",
   "execution_count": 4,
   "metadata": {
    "collapsed": false
   },
   "outputs": [
    {
     "name": "stdout",
     "output_type": "stream",
     "text": [
      "Done\n"
     ]
    }
   ],
   "source": [
    "############################\n",
    "# Features for Naive Bayes\n",
    "############################\n",
    "\n",
    "def NB_Features(data):\n",
    "    features = {}\n",
    "#     features[\"X\"] =int(data[\"X\"])\n",
    "#     features[\"Y\"] =int(data[\"Y\"])\n",
    "    features[\"Month\"] =data[\"month\"]\n",
    "#     features[\"FFMC\"] = int(np.round(float(data[\"FFMC\"])))\n",
    "#     features[\"DMC\"] = int(np.round(float(data[\"DMC\"])))\n",
    "#     features[\"DC\"] = int(np.round(float(data[\"DC\"])))   \n",
    "#     features[\"ISI\"] = int(np.round(float(data[\"ISI\"])))\n",
    "#     features[\"Temperature\"] =int(np.round(float(data[\"temp\"])))\n",
    "    features[\"Relative Humidity\"] = (int)(data[\"RH\"])\n",
    "    features[\"Wind\"] =int(np.round((float)(data[\"wind\"])))\n",
    "    features[\"Rain\"] =data[\"rain\"]\n",
    "    return features\n",
    "\n",
    "print \"Done\""
   ]
  },
  {
   "cell_type": "code",
   "execution_count": 6,
   "metadata": {
    "collapsed": false
   },
   "outputs": [
    {
     "name": "stdout",
     "output_type": "stream",
     "text": [
      "Length of data used: 517\n",
      "Classifier is trained\n",
      "Classifier accuracy: 0.533980582524\n",
      "Most Informative Features\n",
      "       Relative Humidity = 53               High : Low    =      6.6 : 1.0\n",
      "       Relative Humidity = 28               High : Low    =      5.9 : 1.0\n",
      "       Relative Humidity = 48                Low : High   =      4.6 : 1.0\n",
      "       Relative Humidity = 51                Low : High   =      3.6 : 1.0\n",
      "       Relative Humidity = 24                Low : High   =      3.2 : 1.0\n",
      "       Relative Humidity = 78                Low : High   =      3.2 : 1.0\n",
      "       Relative Humidity = 32                Low : High   =      3.2 : 1.0\n",
      "       Relative Humidity = 41               High : Low    =      2.8 : 1.0\n",
      "       Relative Humidity = 26               High : Low    =      2.8 : 1.0\n",
      "                   Month = 'mar'             Low : High   =      2.6 : 1.0\n",
      "       Relative Humidity = 19                Low : High   =      2.5 : 1.0\n",
      "       Relative Humidity = 46               High : Low    =      2.4 : 1.0\n",
      "       Relative Humidity = 47               High : Low    =      2.4 : 1.0\n",
      "       Relative Humidity = 57               High : Low    =      2.2 : 1.0\n",
      "       Relative Humidity = 21               High : Low    =      2.1 : 1.0\n"
     ]
    }
   ],
   "source": [
    "##################################\n",
    "# Training Naive Bayes Classifier\n",
    "##################################\n",
    "random.shuffle(temp)\n",
    "test_buffer = (temp[:int(len(temp)/5)])\n",
    "train_buffer =(temp[int(len(temp)/5):])\n",
    "\n",
    "print \"Length of data used: \" + str(len(test_buffer)+len(train_buffer))\n",
    "train_set = [(NB_Features(data), risk) \n",
    "             for (data,risk) in train_buffer]\n",
    "test_set = [(NB_Features(data), risk) \n",
    "             for (data,risk) in test_buffer]\n",
    "NBClassifier = nltk.NaiveBayesClassifier.train(train_set)\n",
    "print \"Classifier is trained\"\n",
    "print \"Classifier accuracy: \"+str(nltk.classify.accuracy(NBClassifier, test_set))\n",
    "NBClassifier.show_most_informative_features(15)"
   ]
  },
  {
   "cell_type": "code",
   "execution_count": 7,
   "metadata": {
    "collapsed": false
   },
   "outputs": [
    {
     "name": "stdout",
     "output_type": "stream",
     "text": [
      "Done\n"
     ]
    }
   ],
   "source": [
    "#############################\n",
    "# Features for Decision tree\n",
    "#############################\n",
    "\n",
    "def Tree_Features(data):\n",
    "    features = []\n",
    "#     features.append(int(data[\"X\"]))\n",
    "#     features.append(int(data[\"Y\"]))\n",
    "#     features.append(data[\"month\"]) # Virker ikke lige pt\n",
    "#     features.append(float(data[\"FFCM\"]))\n",
    "#     features.append(float(data[\"DCM\"]))\n",
    "#     features.append(float(data[\"CM\"]))\n",
    "#     features.append(float(data[\"ISI\"]))\n",
    "#     features.append(float(data[\"temp\"]))\n",
    "    features.append(float(data[\"RH\"]))\n",
    "    features.append(float(data[\"wind\"]))\n",
    "    features.append(float(data[\"rain\"]))\n",
    "    return features\n",
    "\n",
    "print \"Done\""
   ]
  },
  {
   "cell_type": "code",
   "execution_count": 8,
   "metadata": {
    "collapsed": false
   },
   "outputs": [
    {
     "name": "stdout",
     "output_type": "stream",
     "text": [
      "58.82\n"
     ]
    }
   ],
   "source": [
    "#################\n",
    "# Decision tree\n",
    "#################\n",
    "random.shuffle(temp)\n",
    "\n",
    "# convert categories and PdDistricts to ints\n",
    "firesX = [Tree_Features(fire[0]) for fire in temp]\n",
    "\n",
    "# setup the classifiers\n",
    "DTClassifier = tree.DecisionTreeClassifier()\n",
    "\n",
    "# split the data into 90% traning and 10% test prediction\n",
    "firesX_train = np.array(firesX[:int(len(firesX)*0.9)])\n",
    "firesX_test = np.array(firesX[-int(len(firesX)*0.1):])\n",
    "value = [fire[1] for fire in temp]\n",
    "firesY_train = np.array(value[:int(len(value)*0.9)])\n",
    "firesY_test = np.array(value[-int(len(value)*0.1):])\n",
    "\n",
    "# # initialize of new arrays\n",
    "# firesX_train_rearranged = np.zeros((len(firesX_train), 1))\n",
    "# firesX_test_rearranged = np.zeros((len(firesX_test), 1))\n",
    "# # # Rearrange the training and test data to two dimentional arrays [[features],[features]]\n",
    "# count =0\n",
    "# print firesX_train\n",
    "# for x in firesX_train:\n",
    "#     print x\n",
    "#     firesX_train_rearranged[count] = x\n",
    "#     count +=1\n",
    "    \n",
    "# count =0\n",
    "# for x in firesX_test:\n",
    "#     print x\n",
    "#     firesX_test_rearranged[count] = x\n",
    "#     count +=1\n",
    "\n",
    "# # Train the classifiers and get perdictions from the test data\n",
    "DTClassifier.fit(firesX_train, firesY_train)\n",
    "Z = DTClassifier.predict(firesX_test)\n",
    "\n",
    "numbOfCorrect =0\n",
    "count=0\n",
    "for ans in Z:\n",
    "    if ans ==firesY_test[count]:\n",
    "        numbOfCorrect+=1\n",
    "    count+=1\n",
    "print \"{:0.2f}\".format(numbOfCorrect/len(firesY_test)*100)"
   ]
  },
  {
   "cell_type": "code",
   "execution_count": 9,
   "metadata": {
    "collapsed": true
   },
   "outputs": [],
   "source": [
    "################################\n",
    "# Output file for Decision tree\n",
    "################################\n",
    "from sklearn.externals.six import StringIO\n",
    "with open(\"fire.dot\", 'w') as f:\n",
    "    f = tree.export_graphviz(DTClassifier, out_file=f)"
   ]
  }
 ],
 "metadata": {
  "kernelspec": {
   "display_name": "Python 2",
   "language": "python",
   "name": "python2"
  },
  "language_info": {
   "codemirror_mode": {
    "name": "ipython",
    "version": 2
   },
   "file_extension": ".py",
   "mimetype": "text/x-python",
   "name": "python",
   "nbconvert_exporter": "python",
   "pygments_lexer": "ipython2",
   "version": "2.7.11"
  }
 },
 "nbformat": 4,
 "nbformat_minor": 0
}

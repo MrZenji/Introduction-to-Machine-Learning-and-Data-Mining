{
 "cells": [
  {
   "cell_type": "code",
   "execution_count": 1,
   "metadata": {
    "collapsed": false
   },
   "outputs": [
    {
     "name": "stdout",
     "output_type": "stream",
     "text": [
      "Done\n"
     ]
    }
   ],
   "source": [
    "########################\n",
    "# Imports\n",
    "########################\n",
    "from __future__ import division\n",
    "import math\n",
    "import random\n",
    "import csv\n",
    "import numpy as np\n",
    "import nltk\n",
    "import json\n",
    "from sklearn import tree\n",
    "from sklearn.tree import export_graphviz\n",
    "from sklearn import cross_validation\n",
    "from sklearn.naive_bayes import GaussianNB\n",
    "from sklearn.neighbors import KNeighborsClassifier\n",
    "\n",
    "print \"Done\""
   ]
  },
  {
   "cell_type": "code",
   "execution_count": 2,
   "metadata": {
    "collapsed": false
   },
   "outputs": [
    {
     "name": "stdout",
     "output_type": "stream",
     "text": [
      "Done\n"
     ]
    }
   ],
   "source": [
    "############################\n",
    "# Retrieving data from file\n",
    "###########################\n",
    "Data = []\n",
    "with open('forestfires.csv') as f:\n",
    "    reader = csv.DictReader(f, delimiter=',')\n",
    "    for row in reader:\n",
    "        Data.append({\"X\": row[\"X\"],\"Y\": row[\"Y\"],\"month\": row[\"month\"],\n",
    "                     \"day\": row[\"day\"],\"FFMC\": row[\"FFMC\"] ,\"DMC\": row[\"DMC\"]\n",
    "                    ,\"DC\": row[\"DC\"] ,\"ISI\": row[\"ISI\"] ,\"temp\": row[\"temp\"]\n",
    "                    ,\"RH\": row[\"RH\"] ,\"wind\": row[\"wind\"] ,\"rain\": row[\"rain\"]\n",
    "                    ,\"area\": row[\"area\"]})\n",
    "print \"Done\""
   ]
  },
  {
   "cell_type": "code",
   "execution_count": 3,
   "metadata": {
    "collapsed": false
   },
   "outputs": [
    {
     "name": "stdout",
     "output_type": "stream",
     "text": [
      "Done\n"
     ]
    }
   ],
   "source": [
    "###########\n",
    "# Features\n",
    "###########\n",
    "\n",
    "def months_str_to_int(month):\n",
    "    if(month==\"jan\"):\n",
    "        return 1\n",
    "    if(month==\"feb\"):\n",
    "        return 2\n",
    "    if(month==\"mar\"):\n",
    "        return 3\n",
    "    if(month==\"apr\"):\n",
    "        return 4\n",
    "    if(month==\"may\"):\n",
    "        return 5\n",
    "    if(month==\"jun\"):\n",
    "        return 6\n",
    "    if(month==\"jul\"):\n",
    "        return 7\n",
    "    if(month==\"aug\"):\n",
    "        return 8\n",
    "    if(month==\"sep\"):\n",
    "        return 9\n",
    "    if(month==\"oct\"):\n",
    "        return 10\n",
    "    if(month==\"nov\"):\n",
    "        return 11\n",
    "    if(month==\"dec\"):\n",
    "        return 12\n",
    "    \n",
    "def Features(data):\n",
    "    features = []\n",
    "    features.append(int(data[\"X\"]))\n",
    "    features.append(int(data[\"Y\"]))\n",
    "    features.append(months_str_to_int(data[\"month\"]))\n",
    "    features.append(np.round(float(data[\"FFMC\"])))\n",
    "    features.append(np.round(float(data[\"DMC\"])))\n",
    "    features.append(np.round(float(data[\"DC\"])))\n",
    "    features.append(np.round(float(data[\"ISI\"])))\n",
    "    features.append(np.round(float(data[\"temp\"])))\n",
    "    features.append(np.round(float(data[\"RH\"])))\n",
    "    features.append(np.round(float(data[\"wind\"])))\n",
    "    features.append(np.round(float(data[\"rain\"])))\n",
    "    return features\n",
    "\n",
    "print \"Done\""
   ]
  },
  {
   "cell_type": "code",
   "execution_count": 57,
   "metadata": {
    "collapsed": false
   },
   "outputs": [
    {
     "name": "stdout",
     "output_type": "stream",
     "text": [
      "Gone through 517 fires\n",
      "Number of Large Fires: 270\n",
      "Number of Small fires: 247\n"
     ]
    }
   ],
   "source": [
    "########################\n",
    "# Create train/test-set\n",
    "########################\n",
    "large_set = ([])\n",
    "small_set = ([])\n",
    "large_numb = 0\n",
    "small_numb = 0\n",
    "count = 0\n",
    "for fire in Data:\n",
    "    count +=1\n",
    "    if(float(fire[\"area\"])>0):\n",
    "        large_set.append([fire,1])\n",
    "        large_numb +=1\n",
    "    else:\n",
    "        large_set.append([fire,0])\n",
    "        small_numb +=1\n",
    "temp = (large_set+small_set)\n",
    "print \"Gone through \"+ str(count) +\" fires\"\n",
    "print \"Number of Large Fires: \"+ str(large_numb)\n",
    "print \"Number of Small fires: \"+ str(small_numb)\n",
    "\n",
    "random.shuffle(temp)\n",
    "fires_data = [Features(fire[0]) for fire in temp]\n",
    "\n",
    "# split the data into 90% traning and 10% test prediction\n",
    "firesX_train = np.array(fires_data[:int(len(fires_data)*0.9)])\n",
    "firesX_test = np.array(fires_data[-int(len(fires_data)*0.1):])\n",
    "value = [fire[1] for fire in temp]\n",
    "firesY_train = np.array(value[:int(len(value)*0.9)])\n",
    "firesY_test = np.array(value[-int(len(value)*0.1):])\n",
    "\n",
    "second_layerX_train = firesX_train[:int(len(firesX_train)*0.9)]\n",
    "second_layerX_test = firesX_train[int(len(firesX_train)*0.1):]\n",
    "second_layerY_train = firesY_train[:int(len(firesY_train)*0.9)]\n",
    "second_layerY_test = firesY_train[int(len(firesY_train)*0.1):]"
   ]
  },
  {
   "cell_type": "code",
   "execution_count": 5,
   "metadata": {
    "collapsed": false
   },
   "outputs": [
    {
     "name": "stdout",
     "output_type": "stream",
     "text": [
      "Number of mislabeled points out of a total 419 points : 184\n"
     ]
    }
   ],
   "source": [
    "#########################\n",
    "# Naive Bayes Classifier\n",
    "#########################\n",
    "\n",
    "# setup the classifiers\n",
    "GNBClassifier = GaussianNB()\n",
    "\n",
    "# # Train the classifiers and get perdictions from the test data\n",
    "GNBClassifier.fit(second_layerX_train, second_layerY_train)\n",
    "GNB_predict = GNBClassifier.predict(second_layerX_test)\n",
    "\n",
    "print(\"Number of mislabeled points out of a total %d points : %d\"\n",
    "      % (second_layerX_test.shape[0],(second_layerY_test != GNB_predict).sum()))"
   ]
  },
  {
   "cell_type": "code",
   "execution_count": 6,
   "metadata": {
    "collapsed": false
   },
   "outputs": [
    {
     "name": "stdout",
     "output_type": "stream",
     "text": [
      "Number of mislabeled points out of a total 419 points : 25\n"
     ]
    }
   ],
   "source": [
    "#################\n",
    "# Decision tree\n",
    "#################\n",
    "\n",
    "# setup the classifiers\n",
    "DTClassifier = tree.DecisionTreeClassifier()\n",
    "\n",
    "# Train the classifiers and get perdictions from the test data\n",
    "DTClassifier.fit(second_layerX_train, second_layerY_train)\n",
    "DTC_predict = DTClassifier.predict(second_layerX_test)\n",
    "\n",
    "print(\"Number of mislabeled points out of a total %d points : %d\"\n",
    "      % (second_layerX_test.shape[0],(second_layerY_test != DTC_predict).sum()))"
   ]
  },
  {
   "cell_type": "code",
   "execution_count": 7,
   "metadata": {
    "collapsed": false
   },
   "outputs": [
    {
     "name": "stdout",
     "output_type": "stream",
     "text": [
      "Number of mislabeled points out of a total 419 points : 105\n"
     ]
    }
   ],
   "source": [
    "######################\n",
    "# K Nearest Neighbors\n",
    "######################\n",
    "\n",
    "# setup the classifiers\n",
    "KNNClassifier = KNeighborsClassifier(n_neighbors=3)\n",
    "\n",
    "# Train the classifiers and get perdictions from the test data\n",
    "KNNClassifier.fit(second_layerX_train, second_layerY_train)\n",
    "KNN_predict = KNNClassifier.predict(second_layerX_test)\n",
    "\n",
    "print(\"Number of mislabeled points out of a total %d points : %d\"\n",
    "      % (second_layerX_test.shape[0],(second_layerY_test != KNN_predict).sum()))"
   ]
  },
  {
   "cell_type": "code",
   "execution_count": 8,
   "metadata": {
    "collapsed": true
   },
   "outputs": [],
   "source": [
    "################################\n",
    "# Output file for Decision tree\n",
    "################################\n",
    "from sklearn.externals.six import StringIO\n",
    "with open(\"fire.dot\", 'w') as f:\n",
    "    f = tree.export_graphviz(DTClassifier, out_file=f)"
   ]
  },
  {
   "cell_type": "code",
   "execution_count": 49,
   "metadata": {
    "collapsed": false
   },
   "outputs": [
    {
     "name": "stdout",
     "output_type": "stream",
     "text": [
      "Decision tree:\n",
      "[ 0.63095238  0.54761905  0.57142857  0.55952381  0.48192771]\n",
      "Accuracy: 0.56 (+/- 0.10)\n",
      "Gaussian Naive Bayes:\n",
      "[ 0.52380952  0.61904762  0.48809524  0.51190476  0.45783133]\n",
      "Accuracy: 0.52 (+/- 0.11)\n",
      "K-Nearest Neighbors:\n",
      "[ 0.54761905  0.57142857  0.57142857  0.48809524  0.55421687]\n",
      "Accuracy: 0.55 (+/- 0.06)\n",
      "\n",
      "The cross validated classifier:\n",
      "DecisionTreeClassifier(class_weight=None, criterion='gini', max_depth=None,\n",
      "            max_features=None, max_leaf_nodes=None, min_samples_leaf=1,\n",
      "            min_samples_split=2, min_weight_fraction_leaf=0.0,\n",
      "            presort=False, random_state=None, splitter='best')\n",
      "[ 0.45454545  0.36363636  0.3         0.5         0.66666667]\n",
      "Accuracy: 0.46 (+/- 0.25)\n"
     ]
    }
   ],
   "source": [
    "################################\n",
    "# Two-Layer Cross-Validation\n",
    "################################\n",
    "\n",
    "DTCscores = cross_validation.cross_val_score(DTClassifier, second_layerX_test, second_layerY_test, cv=5)\n",
    "print \"Decision tree:\"\n",
    "print DTCscores\n",
    "print(\"Accuracy: %0.2f (+/- %0.2f)\" % (DTCscores.mean(), DTCscores.std() * 2))\n",
    "GNBscores = cross_validation.cross_val_score(GNBClassifier, second_layerX_test, second_layerY_test, cv=5)\n",
    "print \"Gaussian Naive Bayes:\"\n",
    "print GNBscores\n",
    "print(\"Accuracy: %0.2f (+/- %0.2f)\" % (GNBscores.mean(), GNBscores.std() * 2))\n",
    "KNNscores = cross_validation.cross_val_score(KNNClassifier, second_layerX_test, second_layerY_test, cv=5)\n",
    "print \"K-Nearest Neighbors:\"\n",
    "print KNNscores\n",
    "print(\"Accuracy: %0.2f (+/- %0.2f)\" % (KNNscores.mean(), KNNscores.std() * 2))\n",
    "\n",
    "\n",
    "if(DTCscores.mean()>KNNscores.mean()):\n",
    "    best_classifier = DTClassifier\n",
    "    best_scores = DTCscores\n",
    "else:\n",
    "    best_classifier = KNNClassifier\n",
    "    best_scores = KNNscores\n",
    "    \n",
    "if(GNBscores.mean()>best_scores.mean()):\n",
    "    best_classifier = GNBClassifier\n",
    "    best_scores = GNBscores\n",
    "    \n",
    "CVscores = cross_validation.cross_val_score(best_classifier, firesX_test, firesY_test, cv=5)\n",
    "print \"\"\n",
    "print \"The cross validated classifier:\"\n",
    "print best_classifier\n",
    "print CVscores\n",
    "print(\"Accuracy: %0.2f (+/- %0.2f)\" % (CVscores.mean(), CVscores.std() * 2))"
   ]
  },
  {
   "cell_type": "code",
   "execution_count": 68,
   "metadata": {
    "collapsed": false
   },
   "outputs": [
    {
     "name": "stdout",
     "output_type": "stream",
     "text": [
      "Number of mislabeled points out of a total 419 points : 197\n",
      "GNB:\n",
      "[ 0.50588235  0.48235294  0.54216867  0.51807229  0.51807229] 0\n",
      "Accuracy: 0.51 (+/- 0.04)\n",
      "Number of mislabeled points out of a total 419 points : 193\n",
      "GNB:\n",
      "[ 0.55294118  0.52941176  0.51807229  0.51807229  0.51807229] 1\n",
      "Accuracy: 0.53 (+/- 0.03)\n",
      "Number of mislabeled points out of a total 419 points : 185\n",
      "GNB:\n",
      "[ 0.58823529  0.54117647  0.46987952  0.65060241  0.55421687] 2\n",
      "Accuracy: 0.56 (+/- 0.12)\n",
      "Number of mislabeled points out of a total 419 points : 203\n",
      "GNB:\n",
      "[ 0.51764706  0.54117647  0.38554217  0.57831325  0.55421687] 3\n",
      "Accuracy: 0.52 (+/- 0.14)\n",
      "Number of mislabeled points out of a total 419 points : 191\n",
      "GNB:\n",
      "[ 0.54117647  0.56470588  0.48192771  0.63855422  0.56626506] 4\n",
      "Accuracy: 0.56 (+/- 0.10)\n",
      "Number of mislabeled points out of a total 419 points : 192\n",
      "GNB:\n",
      "[ 0.55294118  0.52941176  0.4939759   0.62650602  0.53012048] 5\n",
      "Accuracy: 0.55 (+/- 0.09)\n",
      "Number of mislabeled points out of a total 419 points : 197\n",
      "GNB:\n",
      "[ 0.52941176  0.49411765  0.46987952  0.53012048  0.57831325] 6\n",
      "Accuracy: 0.52 (+/- 0.07)\n",
      "Number of mislabeled points out of a total 419 points : 177\n",
      "GNB:\n",
      "[ 0.52941176  0.58823529  0.46987952  0.5060241   0.4939759 ] 7\n",
      "Accuracy: 0.52 (+/- 0.08)\n",
      "Number of mislabeled points out of a total 419 points : 199\n",
      "GNB:\n",
      "[ 0.54117647  0.51764706  0.55421687  0.54216867  0.44578313] 8\n",
      "Accuracy: 0.52 (+/- 0.08)\n",
      "Number of mislabeled points out of a total 419 points : 206\n",
      "GNB:\n",
      "[ 0.48235294  0.50588235  0.53012048  0.45783133  0.5060241 ] 9\n",
      "Accuracy: 0.50 (+/- 0.05)\n",
      "Number of mislabeled points out of a total 419 points : 218\n",
      "GNB:\n",
      "[ 0.48235294  0.50588235  0.45783133  0.48192771  0.48192771] 10\n",
      "Accuracy: 0.48 (+/- 0.03)\n",
      "0.560822111977\n",
      "GaussianNB()\n"
     ]
    }
   ],
   "source": [
    "# best_features\n",
    "\n",
    "fires1_data = [Features(fire[0]) for fire in temp]\n",
    "\n",
    "def split_data(data):\n",
    "     # split the data into 90% traning and 10% test prediction\n",
    "    firesX_train = np.array(data[:int(len(data)*0.9)])\n",
    "    firesX_test = np.array(data[-int(len(data)*0.1):])\n",
    "    value = [fire[1] for fire in temp]\n",
    "    firesY_train = np.array(value[:int(len(value)*0.9)])\n",
    "    firesY_test = np.array(value[-int(len(value)*0.1):])\n",
    "\n",
    "    second_layerX_train = firesX_train[:int(len(firesX_train)*0.9)]\n",
    "    second_layerX_test = firesX_train[int(len(firesX_train)*0.1):]\n",
    "    second_layerY_train = firesY_train[:int(len(firesY_train)*0.9)]\n",
    "    second_layerY_test = firesY_train[int(len(firesY_train)*0.1):]\n",
    "    \n",
    "def feature_selector(data):\n",
    "    split_data(data)\n",
    "    GNBscores = cross_validation.cross_val_score(GNBClassifier, second_layerX_test, second_layerY_test, cv=5)\n",
    "    best_mean=GNBscores.mean()\n",
    "    for i in range(0,len(data[0])):\n",
    "        fires_data =[]\n",
    "        for j in range(0,len(data)):\n",
    "            fires_data.append([data[j][i]])\n",
    "    \n",
    "       split_data(fires_data)\n",
    "\n",
    "        #########################\n",
    "        # Naive Bayes Classifier\n",
    "        #########################\n",
    "\n",
    "        # setup the classifiers\n",
    "        GNBClassifier = GaussianNB()\n",
    "\n",
    "        # # Train the classifiers and get perdictions from the test data\n",
    "        GNBClassifier.fit(second_layerX_train, second_layerY_train)\n",
    "        GNB_predict = GNBClassifier.predict(second_layerX_test)\n",
    "\n",
    "        print(\"Number of mislabeled points out of a total %d points : %d\"\n",
    "              % (second_layerX_test.shape[0],(second_layerY_test != GNB_predict).sum()))\n",
    "\n",
    "        GNBscores = cross_validation.cross_val_score(GNBClassifier, second_layerX_test, second_layerY_test, cv=5)\n",
    "        print \"GNB:\"\n",
    "        print(\"Accuracy: %0.2f (+/- %0.2f)\" % (GNBscores.mean(), GNBscores.std() * 2))\n",
    "        if(best_mean<GNBscores.mean()):\n",
    "            best_mean = GNBscores.mean()\n",
    "            best_C=GNBClassifier\n",
    "    print best_mean\n",
    "    print best_C"
   ]
  }
 ],
 "metadata": {
  "kernelspec": {
   "display_name": "Python 2",
   "language": "python",
   "name": "python2"
  },
  "language_info": {
   "codemirror_mode": {
    "name": "ipython",
    "version": 2
   },
   "file_extension": ".py",
   "mimetype": "text/x-python",
   "name": "python",
   "nbconvert_exporter": "python",
   "pygments_lexer": "ipython2",
   "version": "2.7.11"
  }
 },
 "nbformat": 4,
 "nbformat_minor": 0
}
